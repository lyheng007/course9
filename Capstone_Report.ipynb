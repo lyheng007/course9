{
    "nbformat_minor": 1, 
    "cells": [
        {
            "source": "# Introduction/Business Problem", 
            "cell_type": "markdown", 
            "metadata": {
                "collapsed": true
            }
        }, 
        {
            "source": "# Given the data that provided by Foursquare, I would like to know, if I want to open a Bakery/Cake shop where should it be located. ", 
            "cell_type": "raw", 
            "metadata": {}
        }, 
        {
            "source": "# Data", 
            "cell_type": "markdown", 
            "metadata": {}
        }, 
        {
            "source": "# The data that I will be looking at would be:\n    - Where does most of the bakery/cake shop located to weed out the competition\n    - Average spending by neighborhood to have a better sense of pricing\n    - Taste of the users based on their past consumption to segment my market\n    - Number of hotels/schools/workplace that surround the area since they might be a big spender on bakery.", 
            "cell_type": "raw", 
            "metadata": {}
        }
    ], 
    "metadata": {
        "kernelspec": {
            "display_name": "Python 3.6", 
            "name": "python3", 
            "language": "python"
        }, 
        "language_info": {
            "mimetype": "text/x-python", 
            "nbconvert_exporter": "python", 
            "version": "3.6.8", 
            "name": "python", 
            "file_extension": ".py", 
            "pygments_lexer": "ipython3", 
            "codemirror_mode": {
                "version": 3, 
                "name": "ipython"
            }
        }
    }, 
    "nbformat": 4
}